{
 "cells": [
  {
   "cell_type": "markdown",
   "id": "c4a0113d-e7e7-4f72-abf6-a57d558a387d",
   "metadata": {},
   "source": [
    "# Solara"
   ]
  },
  {
   "cell_type": "code",
   "execution_count": 1,
   "id": "742ff691-6918-40b1-988a-654f064a9f4a",
   "metadata": {},
   "outputs": [],
   "source": [
    "import solara\n",
    "import pandas as pd\n",
    "import matplotlib.pyplot as plt"
   ]
  },
  {
   "cell_type": "code",
   "execution_count": 2,
   "id": "2cc1f659-35ab-47b0-bf7a-9ccdfa6446c1",
   "metadata": {},
   "outputs": [],
   "source": [
    "df = pd.read_csv('turma_matricula_docente_filtrados.csv')"
   ]
  },
  {
   "cell_type": "code",
   "execution_count": 3,
   "id": "e3096cdb-a442-46bf-ac32-cee04f2ed427",
   "metadata": {},
   "outputs": [],
   "source": [
    "unidade = solara.reactive(None)\n",
    "componente = solara.reactive(None)\n",
    "docente = solara.reactive(None)"
   ]
  },
  {
   "cell_type": "code",
   "execution_count": 4,
   "id": "df16bfb3-032d-46fd-ae7c-db8b3bd93cbd",
   "metadata": {},
   "outputs": [],
   "source": [
    "@solara.component\n",
    "def SelectUnidade():\n",
    "    values = pd.unique(df['unidade_responsavel']).tolist()\n",
    "    solara.Select(label=\"Unidade\", value=unidade, values=values)"
   ]
  },
  {
   "cell_type": "code",
   "execution_count": 5,
   "id": "e0a92d5e-4eea-4684-bb2a-2dfad9867a12",
   "metadata": {},
   "outputs": [],
   "source": [
    "@solara.component\n",
    "def SelectComponente():\n",
    "    df_unidade = df[df['unidade_responsavel'] == unidade.value]\n",
    "    values = pd.unique(df_unidade['nome_x']).tolist()\n",
    "    solara.Select(label=\"Componente\", value=componente, values=values)"
   ]
  },
  {
   "cell_type": "code",
   "execution_count": 6,
   "id": "f81155f4-aed0-4803-a15b-ffc2a6be94f7",
   "metadata": {},
   "outputs": [],
   "source": [
    "@solara.component\n",
    "def SelectDocente():\n",
    "    df_unidade = df[df['unidade_responsavel'] == unidade.value]\n",
    "    df_componente = df_unidade[df_unidade['nome_x'] == componente.value]\n",
    "    values = pd.unique(df_componente['nome_y']).tolist()\n",
    "    solara.Select(label=\"Docente\", value=docente, values=values)"
   ]
  },
  {
   "cell_type": "code",
   "execution_count": 7,
   "id": "2ec21910-fba2-4b0f-8c47-d88f6d8f0f30",
   "metadata": {},
   "outputs": [],
   "source": [
    "def PieChart():\n",
    "    print('PieChart')\n",
    "    df_unidade = df[df['unidade_responsavel'] == unidade.value]\n",
    "    df_componente = df_unidade[df_unidade['nome_x'] == componente.value]\n",
    "    df_docente = df_componente[df_componente['nome_y'] == docente.value]\n",
    "\n",
    "    data = df_docente.drop_duplicates(subset='discente')\n",
    "\n",
    "    contagem_descricao = data['descricao'].value_counts()\n",
    "    porcentagens = (contagem_descricao / contagem_descricao.sum()) * 100\n",
    "    \n",
    "    fig, ax = plt.subplots(figsize=(10, 6))\n",
    "    wedges, texts, autotexts = ax.pie(porcentagens, labels=porcentagens.index, autopct='%1.1f%%', startangle=90, wedgeprops=dict(width=0.4))\n",
    "    #ax.axis('equal')\n",
    "    \n",
    "    for text, autotext in zip(texts, autotexts):\n",
    "        text.set(size=10)\n",
    "        autotext.set(size=10)\n",
    "    \n",
    "    legend_labels = [f\"{label}: {value}\" for label, value in zip(contagem_descricao.index, contagem_descricao.values)]\n",
    "    ax.legend(wedges, legend_labels, title=\"Descrições\", loc=\"center left\", bbox_to_anchor=(1, 0, 0.5, 1))\n",
    "    solara.FigureMatplotlib(fig)"
   ]
  },
  {
   "cell_type": "code",
   "execution_count": 8,
   "id": "79a641f3-0682-4e5c-a0c8-ab1edf7de956",
   "metadata": {},
   "outputs": [],
   "source": [
    "@solara.component\n",
    "def App():\n",
    "    SelectUnidade()\n",
    "    SelectComponente()\n",
    "    SelectDocente()\n",
    "    PieChart()"
   ]
  },
  {
   "cell_type": "code",
   "execution_count": 9,
   "id": "ac59dcaa-0211-4ebb-8fa8-153e0615803e",
   "metadata": {},
   "outputs": [
    {
     "name": "stdout",
     "output_type": "stream",
     "text": [
      "PieChart\n"
     ]
    },
    {
     "data": {
      "application/vnd.jupyter.widget-view+json": {
       "model_id": "a400481de3e7407fa66283b1dabf7a89",
       "version_major": 2,
       "version_minor": 0
      },
      "text/html": [
       "Cannot show widget. You probably want to rerun the code cell above (<i>Click in the code cell, and press Shift+Enter <kbd>⇧</kbd>+<kbd>↩</kbd></i>)."
      ],
      "text/plain": [
       "Cannot show ipywidgets in text"
      ]
     },
     "metadata": {},
     "output_type": "display_data"
    },
    {
     "data": {
      "image/png": "[encoded data removed]",
      "text/plain": [
       "<Figure size 1000x600 with 1 Axes>"
      ]
     },
     "metadata": {},
     "output_type": "display_data"
    }
   ],
   "source": [
    "App()"
   ]
  }
 ],
 "metadata": {
  "kernelspec": {
   "display_name": "Python 3 (ipykernel)",
   "language": "python",
   "name": "python3"
  },
  "language_info": {
   "codemirror_mode": {
    "name": "ipython",
    "version": 3
   },
   "file_extension": ".py",
   "mimetype": "text/x-python",
   "name": "python",
   "nbconvert_exporter": "python",
   "pygments_lexer": "ipython3",
   "version": "3.11.1"
  }
 },
 "nbformat": 4,
 "nbformat_minor": 5
}
