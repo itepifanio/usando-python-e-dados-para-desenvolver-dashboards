{
 "cells": [
  {
   "cell_type": "code",
   "execution_count": 1,
   "id": "906608dd-1c44-4403-ad25-ec2b702cfa85",
   "metadata": {},
   "outputs": [],
   "source": [
    "import pandas as pd\n",
    "import matplotlib.pyplot as plt\n",
    "import ipywidgets as widgets\n",
    "from IPython.display import display, clear_output\n",
    "from ipywidgets import interactive_output"
   ]
  },
  {
   "cell_type": "code",
   "execution_count": 2,
   "id": "69a19d1f-0c9e-49ac-a147-653c4d2e5dad",
   "metadata": {},
   "outputs": [],
   "source": [
    "%matplotlib inline"
   ]
  },
  {
   "cell_type": "code",
   "execution_count": 3,
   "id": "29ca8eed-2d88-4286-a7e4-69696c60f5c9",
   "metadata": {},
   "outputs": [],
   "source": [
    "df = pd.read_csv('turma_matricula_docente_filtrados.csv')"
   ]
  },
  {
   "cell_type": "code",
   "execution_count": 4,
   "id": "b765b891-ba84-4958-9e2a-b32c5804abcf",
   "metadata": {},
   "outputs": [],
   "source": [
    "# Widgets\n",
    "unidade_dropdown = widgets.Dropdown(\n",
    "    options=df[['unidade_responsavel', 'unidade_responsavel']].drop_duplicates().values.tolist(),\n",
    "    description='Curso:',\n",
    "    value=None\n",
    ")\n",
    "\n",
    "componente_dropdown = widgets.Dropdown(\n",
    "    description='Componente Curricular:',\n",
    "    value=None\n",
    ")\n",
    "\n",
    "docente_dropdown = widgets.Dropdown(\n",
    "    description='Docente:',\n",
    "    value=None\n",
    ")"
   ]
  },
  {
   "cell_type": "code",
   "execution_count": 5,
   "id": "04034bf6-4ff7-42ee-8de7-462d9d223bde",
   "metadata": {},
   "outputs": [],
   "source": [
    "def plot_pie_chart(data):\n",
    "    contagem_descricao = data['descricao'].value_counts()\n",
    "    porcentagens = (contagem_descricao / contagem_descricao.sum()) * 100\n",
    "    \n",
    "    fig, ax = plt.subplots(figsize=(10, 6))\n",
    "    wedges, texts, autotexts = ax.pie(porcentagens, labels=porcentagens.index, autopct='%1.1f%%', startangle=90, wedgeprops=dict(width=0.4))\n",
    "    ax.axis('equal')\n",
    "    \n",
    "    for text, autotext in zip(texts, autotexts):\n",
    "        text.set(size=10)\n",
    "        autotext.set(size=10)\n",
    "    \n",
    "    legend_labels = [f\"{label}: {value}\" for label, value in zip(contagem_descricao.index, contagem_descricao.values)]\n",
    "    ax.legend(wedges, legend_labels, title=\"Descrições\", loc=\"center left\", bbox_to_anchor=(1, 0, 0.5, 1))\n",
    "    \n",
    "    plt.show()"
   ]
  },
  {
   "cell_type": "code",
   "execution_count": 6,
   "id": "056b9d1e-ece6-40b9-bd45-b28567be04c8",
   "metadata": {},
   "outputs": [],
   "source": [
    "def update_componentes(*args):\n",
    "    df_unidade = df[df['unidade_responsavel'] == unidade_dropdown.value]\n",
    "    componente_dropdown.options = pd.unique(df_unidade['nome_componente']).tolist()\n",
    "    componente_dropdown.value = componente_dropdown.options[0] if componente_dropdown.options else None"
   ]
  },
  {
   "cell_type": "code",
   "execution_count": 7,
   "id": "b6ecd7cf-7d77-4eb7-988b-f1ea70cb9706",
   "metadata": {},
   "outputs": [],
   "source": [
    "def update_docentes(*args):\n",
    "    df_unidade = df[df['unidade_responsavel'] == unidade_dropdown.value]\n",
    "    df_componente = df_unidade[df_unidade['nome_componente'] == componente_dropdown.value]\n",
    "    docente_dropdown.options = pd.unique(df_componente['nome_docente']).tolist()\n",
    "    docente_dropdown.value = docente_dropdown.options[0] if docente_dropdown.options else None"
   ]
  },
  {
   "cell_type": "code",
   "execution_count": 8,
   "id": "3742c185-9de6-4ad9-a298-53f429905fa0",
   "metadata": {},
   "outputs": [],
   "source": [
    "def plot_graph_based_on_docente(*args):\n",
    "    with output:\n",
    "        clear_output(wait=True)\n",
    "        \n",
    "        df_unidade = df[df['unidade_responsavel'] == unidade_dropdown.value]\n",
    "        df_componente = df_unidade[df_unidade['nome_componente'] == componente_dropdown.value]\n",
    "        df_docente = df_componente[df_componente['nome_docente'] == docente_dropdown.value]\n",
    "        \n",
    "        df_filtrado = df_docente.drop_duplicates(subset='discente')\n",
    "        plot_pie_chart(df_filtrado)"
   ]
  },
  {
   "cell_type": "code",
   "execution_count": 9,
   "id": "25b1784b-746d-4edd-891b-54ea75c616ac",
   "metadata": {},
   "outputs": [],
   "source": [
    "unidade_dropdown = widgets.Dropdown(\n",
    "    options=pd.unique(df['unidade_responsavel']).tolist(),\n",
    "    value=pd.unique(df['unidade_responsavel']).tolist()[0],\n",
    "    description='Curso:',\n",
    ")\n",
    "\n",
    "componente_dropdown = widgets.Dropdown(description='Componente:')\n",
    "docente_dropdown = widgets.Dropdown(description='Docente:')\n",
    "\n",
    "unidade_dropdown.observe(update_componentes, 'value')\n",
    "componente_dropdown.observe(update_docentes, 'value')\n",
    "docente_dropdown.observe(plot_graph_based_on_docente, 'value')"
   ]
  },
  {
   "cell_type": "code",
   "execution_count": 10,
   "id": "0794c5d7-c859-4327-b31e-4846b27b86d6",
   "metadata": {},
   "outputs": [
    {
     "data": {
      "application/vnd.jupyter.widget-view+json": {
       "model_id": "214b1c58509e42c398c7111ffda686e4",
       "version_major": 2,
       "version_minor": 0
      },
      "text/plain": [
       "VBox(children=(VBox(children=(Dropdown(description='Curso:', options=('DEPARTAMENTO DE ARQUITETURA', 'PROGRAMA…"
      ]
     },
     "metadata": {},
     "output_type": "display_data"
    }
   ],
   "source": [
    "input_widgets = widgets.VBox([unidade_dropdown, componente_dropdown, docente_dropdown])\n",
    "output = widgets.Output()\n",
    "app = widgets.VBox([input_widgets, output])\n",
    "\n",
    "update_componentes()\n",
    "update_docentes()\n",
    "plot_graph_based_on_docente()\n",
    "display(app)"
   ]
  }
 ],
 "metadata": {
  "kernelspec": {
   "display_name": "Python 3 (ipykernel)",
   "language": "python",
   "name": "python3"
  },
  "language_info": {
   "codemirror_mode": {
    "name": "ipython",
    "version": 3
   },
   "file_extension": ".py",
   "mimetype": "text/x-python",
   "name": "python",
   "nbconvert_exporter": "python",
   "pygments_lexer": "ipython3",
   "version": "3.11.1"
  }
 },
 "nbformat": 4,
 "nbformat_minor": 5
}
