{
 "cells": [
  {
   "cell_type": "code",
   "execution_count": 1,
   "id": "906608dd-1c44-4403-ad25-ec2b702cfa85",
   "metadata": {},
   "outputs": [],
   "source": [
    "import pandas as pd\n",
    "import matplotlib.pyplot as plt\n",
    "import ipywidgets as widgets\n",
    "from IPython.display import display, clear_output\n",
    "from ipywidgets import interactive_output"
   ]
  },
  {
   "cell_type": "code",
   "execution_count": 2,
   "id": "69a19d1f-0c9e-49ac-a147-653c4d2e5dad",
   "metadata": {},
   "outputs": [],
   "source": [
    "%matplotlib inline"
   ]
  },
  {
   "cell_type": "code",
   "execution_count": 3,
   "id": "29ca8eed-2d88-4286-a7e4-69696c60f5c9",
   "metadata": {},
   "outputs": [],
   "source": [
    "df = pd.read_csv('turma_matricula_docente_filtrados.csv')"
   ]
  },
  {
   "cell_type": "code",
   "execution_count": 4,
   "id": "b765b891-ba84-4958-9e2a-b32c5804abcf",
   "metadata": {},
   "outputs": [],
   "source": [
    "# Widgets\n",
    "unidade_dropdown = widgets.Dropdown(\n",
    "    options=df[['unidade_responsavel', 'unidade_responsavel']].drop_duplicates().values.tolist(),\n",
    "    description='Curso:',\n",
    "    value=None\n",
    ")\n",
    "\n",
    "componente_dropdown = widgets.Dropdown(\n",
    "    description='Componente Curricular:',\n",
    "    value=None\n",
    ")\n",
    "\n",
    "docente_dropdown = widgets.Dropdown(\n",
    "    description='Docente:',\n",
    "    value=None\n",
    ")"
   ]
  },
  {
   "cell_type": "code",
   "execution_count": 5,
   "id": "6547253c-9a11-44f2-80c7-3c05235c6890",
   "metadata": {},
   "outputs": [],
   "source": [
    "def update_dropdowns(*args):\n",
    "    df_unidade = df[df['unidade_responsavel'] == unidade_dropdown.value]\n",
    "    \n",
    "    componente_dropdown.options = df_unidade[['nome_x', 'id_componente']].drop_duplicates().values.tolist()\n",
    "    \n",
    "    df_componente = df_unidade[df_unidade['id_componente'] == componente_dropdown.value]\n",
    "    docente_dropdown.options = df_componente[['nome_y', 'siape']].drop_duplicates().values.tolist()\n"
   ]
  },
  {
   "cell_type": "code",
   "execution_count": 6,
   "id": "af9cc88b-a4be-4fbd-bf6e-6debb0e77a26",
   "metadata": {},
   "outputs": [],
   "source": [
    "def plot_chart(unidade, componente, docente):\n",
    "    if unidade and componente and docente:\n",
    "        df_filtrado = df[(df['unidade_responsavel'] == unidade) & \n",
    "                         (df['id_componente'] == componente) &\n",
    "                         (df['siape'] == docente)]\n",
    "        \n",
    "        data = df_filtrado.drop_duplicates(subset='discente')\n",
    "\n",
    "        contagem_descricao = data['descricao'].value_counts()\n",
    "        porcentagens = (contagem_descricao / contagem_descricao.sum()) * 100\n",
    "    \n",
    "        ax.clear() # Limpa o conteúdo atual do eixo\n",
    "        wedges, texts, autotexts = ax.pie(porcentagens, labels=porcentagens.index, autopct='%1.1f%%', startangle=90, wedgeprops=dict(width=0.4))\n",
    "        ax.axis('equal')\n",
    "        for text, autotext in zip(texts, autotexts):\n",
    "            text.set(size=10)\n",
    "            autotext.set(size=10)\n",
    "        legend_labels = [f\"{label}: {value}\" for label, value in zip(contagem_descricao.index, contagem_descricao.values)]\n",
    "        ax.legend(wedges, legend_labels, title=\"Descrições\", loc=\"center left\", bbox_to_anchor=(1, 0, 0.5, 1))\n",
    "        fig.canvas.draw() # Atualiza o gráfico"
   ]
  },
  {
   "cell_type": "code",
   "execution_count": 7,
   "id": "80ce5139-72b5-47cc-92b8-9fa9b1de5264",
   "metadata": {},
   "outputs": [],
   "source": [
    "def update_chart(change):\n",
    "    with open('test.txt', 'w') as f:\n",
    "        f.write('hue')\n",
    "    unidade = unidade_dropdown.value\n",
    "    componente = componente_dropdown.value\n",
    "    docente = change.new\n",
    "\n",
    "    clear_output(wait=True)  # Limpa a saída anterior\n",
    "    display(unidade_dropdown, componente_dropdown, docente_dropdown)  # Exibe os widgets novamente\n",
    "\n",
    "    plot_chart(unidade, componente, docente)"
   ]
  },
  {
   "cell_type": "code",
   "execution_count": 8,
   "id": "21b79a82-8ffd-4843-b875-76b2c2474f0e",
   "metadata": {},
   "outputs": [],
   "source": [
    "unidade_dropdown.observe(update_dropdowns, 'value')\n",
    "componente_dropdown.observe(update_dropdowns, 'value')\n",
    "docente_dropdown.observe(update_chart, 'value')"
   ]
  },
  {
   "cell_type": "code",
   "execution_count": 9,
   "id": "504c2d0c-69ef-49cc-bf53-442bbd4a3b26",
   "metadata": {},
   "outputs": [
    {
     "data": {
      "image/png": "[encoded data removed]",
      "text/plain": [
       "<Figure size 1000x600 with 1 Axes>"
      ]
     },
     "metadata": {},
     "output_type": "display_data"
    }
   ],
   "source": [
    "fig, ax = plt.subplots(figsize=(10, 6))\n",
    "plt.show()"
   ]
  },
  {
   "cell_type": "code",
   "execution_count": 10,
   "id": "97474ebf-1a37-4ed1-af55-7691f682fbb6",
   "metadata": {},
   "outputs": [
    {
     "data": {
      "application/vnd.jupyter.widget-view+json": {
       "model_id": "9801c6c38d124010b29cd477f96f34ed",
       "version_major": 2,
       "version_minor": 0
      },
      "text/plain": [
       "Dropdown(description='Curso:', options=(['DEPARTAMENTO DE ARQUITETURA', 'DEPARTAMENTO DE ARQUITETURA'], ['PROG…"
      ]
     },
     "metadata": {},
     "output_type": "display_data"
    },
    {
     "data": {
      "application/vnd.jupyter.widget-view+json": {
       "model_id": "bc1a57b2f5b84b9fa5033d9144a74784",
       "version_major": 2,
       "version_minor": 0
      },
      "text/plain": [
       "Dropdown(description='Componente Curricular:', options=(), value=None)"
      ]
     },
     "metadata": {},
     "output_type": "display_data"
    },
    {
     "data": {
      "application/vnd.jupyter.widget-view+json": {
       "model_id": "58fb5ef0d36a440bb957cc66bea060d4",
       "version_major": 2,
       "version_minor": 0
      },
      "text/plain": [
       "Dropdown(description='Docente:', options=(), value=None)"
      ]
     },
     "metadata": {},
     "output_type": "display_data"
    }
   ],
   "source": [
    "display(unidade_dropdown, componente_dropdown, docente_dropdown)"
   ]
  },
  {
   "cell_type": "code",
   "execution_count": null,
   "id": "3742c185-9de6-4ad9-a298-53f429905fa0",
   "metadata": {},
   "outputs": [],
   "source": []
  }
 ],
 "metadata": {
  "kernelspec": {
   "display_name": "Python 3 (ipykernel)",
   "language": "python",
   "name": "python3"
  },
  "language_info": {
   "codemirror_mode": {
    "name": "ipython",
    "version": 3
   },
   "file_extension": ".py",
   "mimetype": "text/x-python",
   "name": "python",
   "nbconvert_exporter": "python",
   "pygments_lexer": "ipython3",
   "version": "3.11.1"
  }
 },
 "nbformat": 4,
 "nbformat_minor": 5
}
