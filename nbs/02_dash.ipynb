{
 "cells": [
  {
   "cell_type": "markdown",
   "id": "ee3d3dd9-cdc6-4311-9341-25c15b01e370",
   "metadata": {},
   "source": [
    "## Dash"
   ]
  },
  {
   "cell_type": "code",
   "execution_count": 1,
   "id": "1e0fe71b-07dd-4700-ba77-56c9f821d842",
   "metadata": {
    "scrolled": true
   },
   "outputs": [],
   "source": [
    "import dash\n",
    "from dash import html\n",
    "from dash import dcc\n",
    "import plotly.express as px\n",
    "import pandas as pd\n",
    "from dash.dependencies import Input, Output"
   ]
  },
  {
   "cell_type": "code",
   "execution_count": 2,
   "id": "0d917839-c801-447c-999a-96f5a5e61cfe",
   "metadata": {},
   "outputs": [],
   "source": [
    "df = pd.read_csv('turma_matricula_docente_filtrados.csv')"
   ]
  },
  {
   "cell_type": "code",
   "execution_count": 3,
   "id": "2ec75543-c438-4918-a701-f65e2ada74cb",
   "metadata": {},
   "outputs": [],
   "source": [
    "app = dash.Dash(__name__)"
   ]
  },
  {
   "cell_type": "code",
   "execution_count": 4,
   "id": "cd4ed374-d13b-4a20-a3f5-fe34bf31bea5",
   "metadata": {},
   "outputs": [],
   "source": [
    "app.layout = html.Div([\n",
    "    html.H1(\"Taxa de Aprovação por Curso, Componente e Docente\"),\n",
    "    \n",
    "    dcc.Dropdown(\n",
    "        id='unidade-dropdown',\n",
    "        options=[{'label': i, 'value': i} for i in df['unidade_responsavel'].unique()],\n",
    "        value=df['unidade_responsavel'].unique()[0],\n",
    "        multi=False\n",
    "    ),\n",
    "    \n",
    "    dcc.Dropdown(\n",
    "        id='componente-dropdown',\n",
    "        multi=False\n",
    "    ),\n",
    "    \n",
    "    dcc.Dropdown(\n",
    "        id='docente-dropdown',\n",
    "        multi=False\n",
    "    ),\n",
    "    \n",
    "    dcc.Graph(\n",
    "        id='pie-chart'\n",
    "    )\n",
    "])"
   ]
  },
  {
   "cell_type": "code",
   "execution_count": 5,
   "id": "ff310998-79c9-4569-8cae-da142c231d65",
   "metadata": {},
   "outputs": [],
   "source": [
    "@app.callback(\n",
    "    Output('componente-dropdown', 'options'),\n",
    "    Output('componente-dropdown', 'value'),\n",
    "    Input('unidade-dropdown', 'value')\n",
    ")\n",
    "def update_componente_dropdown(unidade):\n",
    "    df_unidade = df[df['unidade_responsavel'] == unidade]\n",
    "    options = [{'label': i, 'value': i} for i in df_unidade['nome_componente'].unique()]\n",
    "    value = df_unidade['nome_componente'].unique()[0] if df_unidade['nome_componente'].unique().size > 0 else None\n",
    "    return options, value"
   ]
  },
  {
   "cell_type": "code",
   "execution_count": 6,
   "id": "a3c03420-8590-4dbb-a91f-981c2d078ef5",
   "metadata": {},
   "outputs": [],
   "source": [
    "@app.callback(\n",
    "    Output('docente-dropdown', 'options'),\n",
    "    Output('docente-dropdown', 'value'),\n",
    "    Input('unidade-dropdown', 'value'),\n",
    "    Input('componente-dropdown', 'value')\n",
    ")\n",
    "def update_docente_dropdown(unidade, componente):\n",
    "    df_componente = df[(df['unidade_responsavel'] == unidade) & (df['nome_componente'] == componente)]\n",
    "    options = [{'label': i, 'value': i} for i in df_componente['nome_docente'].unique()]\n",
    "    value = df_componente['nome_docente'].unique()[0] if df_componente['nome_docente'].unique().size > 0 else None\n",
    "    return options, value"
   ]
  },
  {
   "cell_type": "code",
   "execution_count": 7,
   "id": "61d49ebd-a02c-4189-917e-7de8b6d00c8c",
   "metadata": {},
   "outputs": [],
   "source": [
    "@app.callback(\n",
    "    Output('pie-chart', 'figure'),\n",
    "    Input('unidade-dropdown', 'value'),\n",
    "    Input('componente-dropdown', 'value'),\n",
    "    Input('docente-dropdown', 'value')\n",
    ")\n",
    "def update_graph(unidade, componente, docente):\n",
    "    df_filtrado = df[\n",
    "        (df['unidade_responsavel'] == unidade) &\n",
    "        (df['nome_componente'] == componente) &\n",
    "        (df['nome_docente'] == docente)\n",
    "    ].drop_duplicates(subset='discente')\n",
    "\n",
    "    contagem_descricao = df_filtrado['descricao'].value_counts()\n",
    "    fig = px.pie(df_filtrado, names=contagem_descricao.index, values=contagem_descricao.values, title='Taxa de Aprovação')\n",
    "\n",
    "    return fig"
   ]
  },
  {
   "cell_type": "code",
   "execution_count": 8,
   "id": "79c8e9de-0e90-4f3f-8b98-ebb4bb85e3e9",
   "metadata": {},
   "outputs": [
    {
     "data": {
      "text/html": [
       "\n",
       "        <iframe\n",
       "            width=\"100%\"\n",
       "            height=\"650\"\n",
       "            src=\"http://127.0.0.1:8050/\"\n",
       "            frameborder=\"0\"\n",
       "            allowfullscreen\n",
       "            \n",
       "        ></iframe>\n",
       "        "
      ],
      "text/plain": [
       "<IPython.lib.display.IFrame at 0x7f583d00c350>"
      ]
     },
     "metadata": {},
     "output_type": "display_data"
    }
   ],
   "source": [
    "if __name__ == '__main__':\n",
    "    app.run_server(debug=True)"
   ]
  }
 ],
 "metadata": {
  "kernelspec": {
   "display_name": "Python 3 (ipykernel)",
   "language": "python",
   "name": "python3"
  },
  "language_info": {
   "codemirror_mode": {
    "name": "ipython",
    "version": 3
   },
   "file_extension": ".py",
   "mimetype": "text/x-python",
   "name": "python",
   "nbconvert_exporter": "python",
   "pygments_lexer": "ipython3",
   "version": "3.11.1"
  }
 },
 "nbformat": 4,
 "nbformat_minor": 5
}
